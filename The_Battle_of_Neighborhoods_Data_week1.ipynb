{
    "cells": [
        {
            "cell_type": "markdown",
            "metadata": {
                "collapsed": true
            },
            "source": "# Week 1 - The Battle of Neighborhoods"
        },
        {
            "cell_type": "markdown",
            "metadata": {},
            "source": "## Data section"
        },
        {
            "cell_type": "markdown",
            "metadata": {},
            "source": "To this project, we will use two csv files containing the main locations of the cities of Paris and Bordeaux. Each csv file contains 4 columns: ID, Name, Latitude and Longitude of the main points of the city.\n\nFor this work we will consider the 20 arrondissements of Paris and all the cities of the metropolis of Bordeaux.\n\nThe Figures bellow present the two dataframes created from each csv file."
        },
        {
            "cell_type": "markdown",
            "metadata": {},
            "source": "#### Dataframe of Paris main locations"
        },
        {
            "cell_type": "markdown",
            "metadata": {},
            "source": "https://camo.githubusercontent.com/0a5c32b768d6a826c898a969bddc9924156eeab2/68747470733a2f2f692e696d6775722e636f6d2f457378376d364d2e706e67"
        },
        {
            "cell_type": "markdown",
            "metadata": {},
            "source": "<center><img src=\"https://camo.githubusercontent.com/0a5c32b768d6a826c898a969bddc9924156eeab2/68747470733a2f2f692e696d6775722e636f6d2f457378376d364d2e706e67\"/></center>"
        },
        {
            "cell_type": "markdown",
            "metadata": {},
            "source": "https://camo.githubusercontent.com/3a9d971c7dacbef0335f19374fb728e6c4585c28/68747470733a2f2f692e696d6775722e636f6d2f594f4e725858692e706e67"
        },
        {
            "cell_type": "markdown",
            "metadata": {},
            "source": "<center><img src=\"https://camo.githubusercontent.com/3a9d971c7dacbef0335f19374fb728e6c4585c28/68747470733a2f2f692e696d6775722e636f6d2f594f4e725858692e706e67\" height=\"75%\" width=\"75%\"/></center>"
        },
        {
            "cell_type": "markdown",
            "metadata": {},
            "source": "### Dataframe of Bordeaux main locations"
        },
        {
            "cell_type": "markdown",
            "metadata": {},
            "source": "https://camo.githubusercontent.com/6f67926c3c9974470a434e648996ab615b1cacde/68747470733a2f2f692e696d6775722e636f6d2f7670644d3274592e706e67"
        },
        {
            "cell_type": "markdown",
            "metadata": {},
            "source": "<center><img height=\"50%\" width=\"75%\" src=\"https://camo.githubusercontent.com/6f67926c3c9974470a434e648996ab615b1cacde/68747470733a2f2f692e696d6775722e636f6d2f7670644d3274592e706e67\"/></center>"
        },
        {
            "cell_type": "markdown",
            "metadata": {},
            "source": "https://camo.githubusercontent.com/805176c894e28a2944bb605d5e879e02a03d1943/68747470733a2f2f692e696d6775722e636f6d2f484568487154472e706e67"
        },
        {
            "cell_type": "markdown",
            "metadata": {},
            "source": "<center><img src=\"https://camo.githubusercontent.com/805176c894e28a2944bb605d5e879e02a03d1943/68747470733a2f2f692e696d6775722e636f6d2f484568487154472e706e67\" height=\"50%\" width=\"75%\"/></center>"
        },
        {
            "cell_type": "markdown",
            "metadata": {},
            "source": "With theses dataframes, we will use Foursquare development account to find all the restaurants, wine bars, bakeries, coffe shops or anywhere that offers a gastronomic experience.\n\nIt was necessary to perform a preprocessing work in the data, excluding locations that had nothing to do with gastronomic experiences and locations that appear repeated in the table.\n\nThe Figures below shows the result of the Foursquare requisition for the cities of Paris and Bordeaux, respectively."
        },
        {
            "cell_type": "markdown",
            "metadata": {},
            "source": "https://camo.githubusercontent.com/f32422b7888f3987dc71b0fe145e78384bc16c78/68747470733a2f2f692e696d6775722e636f6d2f435341416f47512e706e67"
        },
        {
            "cell_type": "markdown",
            "metadata": {},
            "source": "<center><img height=\"50%\" width=\"100%\" src=\"https://camo.githubusercontent.com/f32422b7888f3987dc71b0fe145e78384bc16c78/68747470733a2f2f692e696d6775722e636f6d2f435341416f47512e706e67\"/></center>"
        },
        {
            "cell_type": "markdown",
            "metadata": {},
            "source": "https://camo.githubusercontent.com/9a0b3a51af1b232f287809ee6f9211373ce48185/68747470733a2f2f692e696d6775722e636f6d2f6c396b34757a692e706e67"
        },
        {
            "cell_type": "markdown",
            "metadata": {},
            "source": "<center><img src=\"https://camo.githubusercontent.com/9a0b3a51af1b232f287809ee6f9211373ce48185/68747470733a2f2f692e696d6775722e636f6d2f6c396b34757a692e706e67\" height=\"50%\" width=\"100%\"/></center>"
        },
        {
            "cell_type": "markdown",
            "metadata": {},
            "source": "## Now, We can begin our Restaurant's Analysis and Process the Data."
        },
        {
            "cell_type": "code",
            "execution_count": null,
            "metadata": {},
            "outputs": [],
            "source": ""
        },
        {
            "cell_type": "code",
            "execution_count": null,
            "metadata": {},
            "outputs": [],
            "source": ""
        }
    ],
    "metadata": {
        "kernelspec": {
            "display_name": "Python 3.6",
            "language": "python",
            "name": "python3"
        },
        "language_info": {
            "codemirror_mode": {
                "name": "ipython",
                "version": 3
            },
            "file_extension": ".py",
            "mimetype": "text/x-python",
            "name": "python",
            "nbconvert_exporter": "python",
            "pygments_lexer": "ipython3",
            "version": "3.6.9"
        }
    },
    "nbformat": 4,
    "nbformat_minor": 1
}