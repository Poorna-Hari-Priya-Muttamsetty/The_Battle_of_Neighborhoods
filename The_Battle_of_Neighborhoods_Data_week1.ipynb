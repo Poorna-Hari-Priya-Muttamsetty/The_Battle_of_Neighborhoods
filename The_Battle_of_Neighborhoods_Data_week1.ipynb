{
    "cells": [
        {
            "metadata": {
                "collapsed": true
            },
            "cell_type": "markdown",
            "source": "# Week 1 - The Battle of Neighborhoods"
        },
        {
            "metadata": {},
            "cell_type": "markdown",
            "source": "## Data section"
        },
        {
            "metadata": {},
            "cell_type": "markdown",
            "source": "To this project, we will use two csv files containing the main locations of the cities of Paris and Bordeaux. Each csv file contains 4 columns: ID, Name, Latitude and Longitude of the main points of the city.\n\nFor this work we will consider the 20 arrondissements of Paris and all the cities of the metropolis of Bordeaux.\n\nThe Figures bellow present the two dataframes created from each csv file."
        },
        {
            "metadata": {},
            "cell_type": "markdown",
            "source": "#### Dataframe of Paris main locations"
        },
        {
            "metadata": {},
            "cell_type": "markdown",
            "source": "<center><img src=\"https://camo.githubusercontent.com/0a5c32b768d6a826c898a969bddc9924156eeab2/68747470733a2f2f692e696d6775722e636f6d2f457378376d364d2e706e67\"/></center>"
        },
        {
            "metadata": {},
            "cell_type": "markdown",
            "source": "<center><img src=\"https://camo.githubusercontent.com/3a9d971c7dacbef0335f19374fb728e6c4585c28/68747470733a2f2f692e696d6775722e636f6d2f594f4e725858692e706e67\" height=\"75%\" width=\"75%\"/></center>"
        },
        {
            "metadata": {},
            "cell_type": "markdown",
            "source": "### Dataframe of Bordeaux main locations"
        },
        {
            "metadata": {},
            "cell_type": "markdown",
            "source": "<center><img height=\"50%\" width=\"75%\" src=\"https://camo.githubusercontent.com/6f67926c3c9974470a434e648996ab615b1cacde/68747470733a2f2f692e696d6775722e636f6d2f7670644d3274592e706e67\"/></center>"
        },
        {
            "metadata": {},
            "cell_type": "markdown",
            "source": "<center><img src=\"https://camo.githubusercontent.com/805176c894e28a2944bb605d5e879e02a03d1943/68747470733a2f2f692e696d6775722e636f6d2f484568487154472e706e67\" height=\"50%\" width=\"75%\"/></center>"
        },
        {
            "metadata": {},
            "cell_type": "markdown",
            "source": "With theses dataframes, we will use Foursquare development account to find all the restaurants, wine bars, bakeries, coffe shops or anywhere that offers a gastronomic experience.\n\nIt was necessary to perform a preprocessing work in the data, excluding locations that had nothing to do with gastronomic experiences and locations that appear repeated in the table.\n\nThe Figures below shows the result of the Foursquare requisition for the cities of Paris and Bordeaux, respectively."
        },
        {
            "metadata": {},
            "cell_type": "markdown",
            "source": "<center><img height=\"50%\" width=\"100%\" src=\"https://camo.githubusercontent.com/f32422b7888f3987dc71b0fe145e78384bc16c78/68747470733a2f2f692e696d6775722e636f6d2f435341416f47512e706e67\"/></center>"
        },
        {
            "metadata": {},
            "cell_type": "markdown",
            "source": "<center><img src=\"https://camo.githubusercontent.com/9a0b3a51af1b232f287809ee6f9211373ce48185/68747470733a2f2f692e696d6775722e636f6d2f6c396b34757a692e706e67\" height=\"50%\" width=\"100%\"/></center>"
        },
        {
            "metadata": {},
            "cell_type": "markdown",
            "source": "## Now, We can begin our Restaurant's Analysis and Process the Data."
        },
        {
            "metadata": {},
            "cell_type": "code",
            "source": "",
            "execution_count": null,
            "outputs": []
        },
        {
            "metadata": {},
            "cell_type": "code",
            "source": "",
            "execution_count": null,
            "outputs": []
        }
    ],
    "metadata": {
        "kernelspec": {
            "name": "python3",
            "display_name": "Python 3.6",
            "language": "python"
        },
        "language_info": {
            "name": "python",
            "version": "3.6.9",
            "mimetype": "text/x-python",
            "codemirror_mode": {
                "name": "ipython",
                "version": 3
            },
            "pygments_lexer": "ipython3",
            "nbconvert_exporter": "python",
            "file_extension": ".py"
        }
    },
    "nbformat": 4,
    "nbformat_minor": 1
}